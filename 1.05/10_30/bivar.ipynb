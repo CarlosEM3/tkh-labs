{
 "cells": [
  {
   "cell_type": "code",
   "execution_count": 95,
   "metadata": {},
   "outputs": [],
   "source": [
    "import numpy as np\n",
    "import statsmodels as stats\n",
    "import matplotlib.pyplot as plt\n",
    "import pandas as pd\n",
    "\n"
   ]
  },
  {
   "cell_type": "code",
   "execution_count": 2,
   "metadata": {},
   "outputs": [],
   "source": [
    "# Generate 2 pairs of 20 datapoints\n",
    "# np.random.normal generates on the following parameters (mean, scale, size of array)\n",
    "# We are making (2, 20) array of data which is 2 columns of 20 datapoints\n",
    "\n",
    "data = np.random.normal(0, 1, (2,20))\n",
    "\n"
   ]
  },
  {
   "cell_type": "code",
   "execution_count": 34,
   "metadata": {},
   "outputs": [
    {
     "data": {
      "text/plain": [
       "array([[ 0.02094174,  1.66112109,  0.78000837, -0.35248402, -0.93960539,\n",
       "         0.79815914, -0.35449   ,  0.94251564,  1.81959356, -1.0652609 ,\n",
       "        -0.63531659,  1.42345848, -0.55778785,  0.72629177, -1.17552385,\n",
       "        -0.18331368,  2.20642614,  0.39857579, -2.397235  ,  0.44477821],\n",
       "       [-0.22845166, -0.23004586,  0.12560562, -1.13822606,  0.17004282,\n",
       "         0.38536488, -0.6196903 , -1.37985998, -0.64512296, -0.14898666,\n",
       "        -0.04067829, -0.02102434, -0.79996847,  0.30203029, -0.08654379,\n",
       "         1.77639637,  0.08717008,  0.70152409,  0.32714747,  0.01597927]])"
      ]
     },
     "execution_count": 34,
     "metadata": {},
     "output_type": "execute_result"
    }
   ],
   "source": [
    "# see what the arrays look like\n",
    "# it should be an array that is a list of lists\n",
    "\n",
    "data"
   ]
  },
  {
   "cell_type": "code",
   "execution_count": 35,
   "metadata": {},
   "outputs": [
    {
     "name": "stdout",
     "output_type": "stream",
     "text": [
      "[ 0.02094174  1.66112109  0.78000837 -0.35248402 -0.93960539  0.79815914\n",
      " -0.35449     0.94251564  1.81959356 -1.0652609  -0.63531659  1.42345848\n",
      " -0.55778785  0.72629177 -1.17552385 -0.18331368  2.20642614  0.39857579\n",
      " -2.397235    0.44477821]\n",
      "[-0.22845166 -0.23004586  0.12560562 -1.13822606  0.17004282  0.38536488\n",
      " -0.6196903  -1.37985998 -0.64512296 -0.14898666 -0.04067829 -0.02102434\n",
      " -0.79996847  0.30203029 -0.08654379  1.77639637  0.08717008  0.70152409\n",
      "  0.32714747  0.01597927]\n"
     ]
    },
    {
     "data": {
      "image/png": "[encoded data removed]",
      "text/plain": [
       "<Figure size 640x480 with 1 Axes>"
      ]
     },
     "metadata": {},
     "output_type": "display_data"
    }
   ],
   "source": [
    "# Plot the data using plt.scatter()\n",
    "# Hint: you may need to index the data array!\n",
    "#df = pd.DataFrame(data)\n",
    "#print(df)\n",
    "x = data[0]\n",
    "y = data[1]\n",
    "print(x)\n",
    "print(y)\n",
    "\n",
    "plt.scatter(x, y)\n",
    "plt.show()"
   ]
  },
  {
   "cell_type": "code",
   "execution_count": 104,
   "metadata": {},
   "outputs": [],
   "source": [
    "# define our x and y using the 2 columns of data \n",
    "x = data[0]\n",
    "y = data[1]"
   ]
  },
  {
   "cell_type": "code",
   "execution_count": 32,
   "metadata": {},
   "outputs": [
    {
     "data": {
      "text/plain": [
       "(0.05283787968003596, 0.05283787968003596)"
      ]
     },
     "execution_count": 32,
     "metadata": {},
     "output_type": "execute_result"
    }
   ],
   "source": [
    "# do all the necessary calculations to get the correlation coefficient\n",
    "# use either numpy or statistics package\n",
    "# we will leave you to do it on your own and find your own way\n",
    "\n",
    "#mean x and y \n",
    "x_mean = np.mean(x)\n",
    "y_mean = np.mean(y)\n",
    "\n",
    "(x_mean, y_mean)\n",
    "\n",
    "\n",
    "\n",
    "# Here are some ideas for what you might want to use but these are not the only way!\n",
    "# np.sqrt()\n",
    "# np.mean()\n",
    "# sum()\n",
    "# for loops\n",
    "# range()"
   ]
  },
  {
   "cell_type": "code",
   "execution_count": 36,
   "metadata": {},
   "outputs": [
    {
     "data": {
      "text/plain": [
       "[-0.031896142117329204,\n",
       " 1.6082832148666486,\n",
       " 0.7271704928852126,\n",
       " -0.4053218994403083,\n",
       " -0.9924432715893076,\n",
       " 0.7453212575666736,\n",
       " -0.40732787644808255,\n",
       " 0.889677763068163,\n",
       " 1.766755678024761,\n",
       " -1.1180987830623672,\n",
       " -0.6881544656069616,\n",
       " 1.3706206007870139,\n",
       " -0.6106257263568432,\n",
       " 0.6734538940100322,\n",
       " -1.2283617321713332,\n",
       " -0.23615155474403765,\n",
       " 2.1535882606721795,\n",
       " 0.3457379091612286,\n",
       " -2.4500728756277264,\n",
       " 0.3919403303084642]"
      ]
     },
     "execution_count": 36,
     "metadata": {},
     "output_type": "execute_result"
    }
   ],
   "source": [
    "#deviance x\n",
    "\n",
    "devx = []\n",
    "\n",
    "for xi in x:\n",
    "    devx.append(xi-x_mean)\n",
    "\n",
    "devx\n"
   ]
  },
  {
   "cell_type": "code",
   "execution_count": 47,
   "metadata": {},
   "outputs": [
    {
     "data": {
      "text/plain": [
       "[-0.2812895415554326,\n",
       " -0.28288373477594375,\n",
       " 0.07276774504235058,\n",
       " -1.1910639422603473,\n",
       " 0.11720493796527255,\n",
       " 0.332527003497409,\n",
       " -0.67252818200557,\n",
       " -1.432697863101373,\n",
       " -0.6979608384252802,\n",
       " -0.20182454381153192,\n",
       " -0.09351616484456488,\n",
       " -0.07386221902980125,\n",
       " -0.8528063493638293,\n",
       " 0.24919240778844487,\n",
       " -0.13938166680733818,\n",
       " 1.7235584853629753,\n",
       " 0.034332195383149994,\n",
       " 0.6486862081051611,\n",
       " 0.2743095938096166,\n",
       " -0.036858605159447375]"
      ]
     },
     "execution_count": 47,
     "metadata": {},
     "output_type": "execute_result"
    }
   ],
   "source": [
    "#deviance of y\n",
    "\n",
    "devy = []\n",
    "\n",
    "for yi in y:\n",
    "    devy.append(yi-y_mean)\n",
    "\n",
    "devy"
   ]
  },
  {
   "cell_type": "code",
   "execution_count": 59,
   "metadata": {},
   "outputs": [
    {
     "data": {
      "text/plain": [
       "[0.008972051193570458,\n",
       " -0.4549571623989392,\n",
       " 0.052914557028591554,\n",
       " 0.48276429943182564,\n",
       " -0.11631925208067694,\n",
       " 0.24783944442156652,\n",
       " 0.2739394762278184,\n",
       " -1.2746394299965667,\n",
       " -1.2331262743267868,\n",
       " 0.22565977682779126,\n",
       " 0.06435356644422408,\n",
       " -0.1012370790220882,\n",
       " 0.5207454965220161,\n",
       " 0.16781959738286406,\n",
       " 0.17121110567238954,\n",
       " -0.40702101601074525,\n",
       " 0.07393741294025542,\n",
       " 0.224275413292004,\n",
       " -0.6720784953174009,\n",
       " -0.014446373880903068]"
      ]
     },
     "execution_count": 59,
     "metadata": {},
     "output_type": "execute_result"
    }
   ],
   "source": [
    "#multiplying x and y deviance togther \n",
    "devx_y = []\n",
    "\n",
    "for numx, numy in zip(devx, devy):\n",
    "    multx_y = numx*numy\n",
    "    devx_y.append(multx_y)\n",
    "\n",
    "devx_y\n",
    "\n",
    "#here we are multiplying each number(numx and numy) inside the list (devx, devy) togther\n",
    "#we use zip to join and iterate over -- could also check by doing len(list) to make sure both list same size"
   ]
  },
  {
   "cell_type": "code",
   "execution_count": 60,
   "metadata": {},
   "outputs": [
    {
     "data": {
      "text/plain": [
       "-1.75939288564919"
      ]
     },
     "execution_count": 60,
     "metadata": {},
     "output_type": "execute_result"
    }
   ],
   "source": [
    "#adding all devx_y \n",
    "\n",
    "x_ysum = sum(devx_y)\n",
    "x_ysum"
   ]
  },
  {
   "cell_type": "code",
   "execution_count": 72,
   "metadata": {},
   "outputs": [
    {
     "data": {
      "text/plain": [
       "[0.001017363881968862,\n",
       " 2.5865748992218025,\n",
       " 0.5287769257229231,\n",
       " 0.16428584216589937,\n",
       " 0.9849436473228881,\n",
       " 0.5555037769807677,\n",
       " 0.1659159989317044,\n",
       " 0.7915265220979705,\n",
       " 3.121425625832733,\n",
       " 1.2501448886855464,\n",
       " 0.4735565685348029,\n",
       " 1.8786008313017548,\n",
       " 0.37286377768882234,\n",
       " 0.45354014735727566,\n",
       " 1.508872545062958,\n",
       " 0.05576755680802621,\n",
       " 4.637942396505023,\n",
       " 0.11953470183117795,\n",
       " 6.002857095886716,\n",
       " 0.15361722252230803]"
      ]
     },
     "execution_count": 72,
     "metadata": {},
     "output_type": "execute_result"
    }
   ],
   "source": [
    "#squared deviance of x\n",
    "\n",
    "sq_x = []\n",
    "\n",
    "for xsq in devx: \n",
    "    sq_x.append(xsq**2)\n",
    "\n",
    "sq_x"
   ]
  },
  {
   "cell_type": "code",
   "execution_count": 73,
   "metadata": {},
   "outputs": [
    {
     "data": {
      "text/plain": [
       "[0.07912380618846546,\n",
       " 0.08002320740078649,\n",
       " 0.0052951447185485365,\n",
       " 1.4186333145527599,\n",
       " 0.013736997483443387,\n",
       " 0.11057420805496584,\n",
       " 0.45229415559171704,\n",
       " 2.0526231669352404,\n",
       " 0.4871493319753201,\n",
       " 0.04073314648473297,\n",
       " 0.008745273087235831,\n",
       " 0.005455627400006334,\n",
       " 0.7272786695152617,\n",
       " 0.062096856099402596,\n",
       " 0.019427249041991838,\n",
       " 2.9706538524667137,\n",
       " 0.0011786996398267858,\n",
       " 0.42079379658585236,\n",
       " 0.07524575325599686,\n",
       " 0.0013585567743000407]"
      ]
     },
     "execution_count": 73,
     "metadata": {},
     "output_type": "execute_result"
    }
   ],
   "source": [
    "#squared deviance of y\n",
    "\n",
    "sq_y = []\n",
    "\n",
    "for ysq in devy: \n",
    "    sq_y.append(ysq**2)\n",
    "\n",
    "sq_y"
   ]
  },
  {
   "cell_type": "code",
   "execution_count": 82,
   "metadata": {},
   "outputs": [
    {
     "data": {
      "text/plain": [
       "25.80726833434307"
      ]
     },
     "execution_count": 82,
     "metadata": {},
     "output_type": "execute_result"
    }
   ],
   "source": [
    "#adding squared deviance of x \n",
    "\n",
    "sqx_total = sum(sq_x)\n",
    "\n",
    "sqx_total\n"
   ]
  },
  {
   "cell_type": "code",
   "execution_count": 83,
   "metadata": {},
   "outputs": [
    {
     "data": {
      "text/plain": [
       "9.032420813252568"
      ]
     },
     "execution_count": 83,
     "metadata": {},
     "output_type": "execute_result"
    }
   ],
   "source": [
    "#adding squared deviance of y \n",
    "\n",
    "sqy_total = sum(sq_y)\n",
    "\n",
    "sqy_total"
   ]
  },
  {
   "cell_type": "code",
   "execution_count": 85,
   "metadata": {},
   "outputs": [
    {
     "data": {
      "text/plain": [
       "233.1021076363143"
      ]
     },
     "execution_count": 85,
     "metadata": {},
     "output_type": "execute_result"
    }
   ],
   "source": [
    "#multiplying sums of squared deviance of x and y\n",
    "\n",
    "sqxy_total = sqy_total*sqx_total\n",
    "\n",
    "sqxy_total"
   ]
  },
  {
   "cell_type": "code",
   "execution_count": 88,
   "metadata": {},
   "outputs": [
    {
     "data": {
      "text/plain": [
       "15.267681802956016"
      ]
     },
     "execution_count": 88,
     "metadata": {},
     "output_type": "execute_result"
    }
   ],
   "source": [
    "#taking the sqrt of product \n",
    "\n",
    "sqrt_total = np.sqrt(sqxy_total)\n",
    "sqrt_total"
   ]
  },
  {
   "cell_type": "code",
   "execution_count": 102,
   "metadata": {},
   "outputs": [
    {
     "data": {
      "text/plain": [
       "-0.1152364129902517"
      ]
     },
     "execution_count": 102,
     "metadata": {},
     "output_type": "execute_result"
    }
   ],
   "source": [
    "#dividing \n",
    "\n",
    "calc_total = x_ysum/sqrt_total\n",
    "calc_total"
   ]
  },
  {
   "cell_type": "code",
   "execution_count": 99,
   "metadata": {},
   "outputs": [
    {
     "data": {
      "text/html": [
       "<div>\n",
       "<style scoped>\n",
       "    .dataframe tbody tr th:only-of-type {\n",
       "        vertical-align: middle;\n",
       "    }\n",
       "\n",
       "    .dataframe tbody tr th {\n",
       "        vertical-align: top;\n",
       "    }\n",
       "\n",
       "    .dataframe thead th {\n",
       "        text-align: right;\n",
       "    }\n",
       "</style>\n",
       "<table border=\"1\" class=\"dataframe\">\n",
       "  <thead>\n",
       "    <tr style=\"text-align: right;\">\n",
       "      <th></th>\n",
       "      <th>x</th>\n",
       "      <th>y</th>\n",
       "    </tr>\n",
       "  </thead>\n",
       "  <tbody>\n",
       "    <tr>\n",
       "      <th>0</th>\n",
       "      <td>0.020942</td>\n",
       "      <td>-0.228452</td>\n",
       "    </tr>\n",
       "    <tr>\n",
       "      <th>1</th>\n",
       "      <td>1.661121</td>\n",
       "      <td>-0.230046</td>\n",
       "    </tr>\n",
       "    <tr>\n",
       "      <th>2</th>\n",
       "      <td>0.780008</td>\n",
       "      <td>0.125606</td>\n",
       "    </tr>\n",
       "    <tr>\n",
       "      <th>3</th>\n",
       "      <td>-0.352484</td>\n",
       "      <td>-1.138226</td>\n",
       "    </tr>\n",
       "    <tr>\n",
       "      <th>4</th>\n",
       "      <td>-0.939605</td>\n",
       "      <td>0.170043</td>\n",
       "    </tr>\n",
       "  </tbody>\n",
       "</table>\n",
       "</div>"
      ],
      "text/plain": [
       "          x         y\n",
       "0  0.020942 -0.228452\n",
       "1  1.661121 -0.230046\n",
       "2  0.780008  0.125606\n",
       "3 -0.352484 -1.138226\n",
       "4 -0.939605  0.170043"
      ]
     },
     "execution_count": 99,
     "metadata": {},
     "output_type": "execute_result"
    }
   ],
   "source": [
    "### Now do it in pandas\n",
    "## We will create the dataframe for you, but pay close attention to how\n",
    "df = pd.DataFrame({'x': data[0], 'y': data[1]})\n",
    "df.head()"
   ]
  },
  {
   "cell_type": "code",
   "execution_count": 108,
   "metadata": {},
   "outputs": [
    {
     "data": {
      "text/plain": [
       "<pandas.plotting._core.PlotAccessor object at 0x1674e8dc0>"
      ]
     },
     "execution_count": 108,
     "metadata": {},
     "output_type": "execute_result"
    },
    {
     "data": {
      "image/png": "[encoded data removed]",
      "text/plain": [
       "<Figure size 640x480 with 1 Axes>"
      ]
     },
     "metadata": {},
     "output_type": "display_data"
    }
   ],
   "source": [
    "## When plotting a scatterplot, we just choose the name of the columns\n",
    "## Since these are not variables, make sure to write column names as strings\n",
    "\n",
    "df.plot(x=\"x\", y=\"y\", kind='scatter');\n",
    "df.plot"
   ]
  },
  {
   "cell_type": "code",
   "execution_count": 103,
   "metadata": {},
   "outputs": [
    {
     "data": {
      "text/html": [
       "<div>\n",
       "<style scoped>\n",
       "    .dataframe tbody tr th:only-of-type {\n",
       "        vertical-align: middle;\n",
       "    }\n",
       "\n",
       "    .dataframe tbody tr th {\n",
       "        vertical-align: top;\n",
       "    }\n",
       "\n",
       "    .dataframe thead th {\n",
       "        text-align: right;\n",
       "    }\n",
       "</style>\n",
       "<table border=\"1\" class=\"dataframe\">\n",
       "  <thead>\n",
       "    <tr style=\"text-align: right;\">\n",
       "      <th></th>\n",
       "      <th>x</th>\n",
       "      <th>y</th>\n",
       "    </tr>\n",
       "  </thead>\n",
       "  <tbody>\n",
       "    <tr>\n",
       "      <th>x</th>\n",
       "      <td>1.00000</td>\n",
       "      <td>-0.09698</td>\n",
       "    </tr>\n",
       "    <tr>\n",
       "      <th>y</th>\n",
       "      <td>-0.09698</td>\n",
       "      <td>1.00000</td>\n",
       "    </tr>\n",
       "  </tbody>\n",
       "</table>\n",
       "</div>"
      ],
      "text/plain": [
       "         x        y\n",
       "x  1.00000 -0.09698\n",
       "y -0.09698  1.00000"
      ]
     },
     "execution_count": 103,
     "metadata": {},
     "output_type": "execute_result"
    }
   ],
   "source": [
    "# we will use the df.corr() function\n",
    "# it compares the correlaton of each column to other columns\n",
    "# column1 will always have 1.0 correlation to itself (top left, [0,0])\n",
    "# column2 will always have 1.0 correlation to iteself (bottom right, [1,1])\n",
    "\n",
    "\n",
    "## Did you do the math right? Does your correlation match this correlation?\n",
    "\n",
    "df.corr()"
   ]
  },
  {
   "cell_type": "code",
   "execution_count": null,
   "metadata": {},
   "outputs": [],
   "source": []
  }
 ],
 "metadata": {
  "kernelspec": {
   "display_name": "base",
   "language": "python",
   "name": "python3"
  },
  "language_info": {
   "codemirror_mode": {
    "name": "ipython",
    "version": 3
   },
   "file_extension": ".py",
   "mimetype": "text/x-python",
   "name": "python",
   "nbconvert_exporter": "python",
   "pygments_lexer": "ipython3",
   "version": "3.11.3"
  },
  "orig_nbformat": 4
 },
 "nbformat": 4,
 "nbformat_minor": 2
}
