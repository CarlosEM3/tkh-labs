{
 "cells": [
  {
   "cell_type": "markdown",
   "metadata": {},
   "source": [
    "# Z-Test Lab\n",
    "Because we've already done a manual calculation of the t-test, lets try doing the z-test.\n",
    "\n",
    "Spend some time reading through this geek-for-geeks article. https://www.geeksforgeeks.org/z-test/#\n",
    "\n",
    "Then take the code examples that are given in the article and recreate a one-tailed one-sample z-test and a two-tailed two-sampled z-test."
   ]
  },
  {
   "cell_type": "code",
   "execution_count": 1,
   "metadata": {},
   "outputs": [],
   "source": [
    "## Write the imports you'll need here\n",
    "import numpy as np \n",
    "import scipy.stats as stats"
   ]
  },
  {
   "cell_type": "markdown",
   "metadata": {},
   "source": [
    "## One-Sample Z-Test"
   ]
  },
  {
   "cell_type": "markdown",
   "metadata": {},
   "source": []
  },
  {
   "cell_type": "code",
   "execution_count": 2,
   "metadata": {},
   "outputs": [],
   "source": [
    "\n",
    "# Given information for one-tailed one-sample Z-test\n",
    "# Assume we have a sample size of 100 with a mean of 310\n",
    "# Assume we know the population mean of 280 with a known population std deviation of 20\n",
    "# At an alpha = 0.05 can we confidently say that these two groups are different?\n",
    "\n",
    "sample_mean = 310\n",
    "population_mean = 280\n",
    "population_std = 20\n",
    "sample_size = 100\n",
    "alpha = 0.05"
   ]
  },
  {
   "cell_type": "code",
   "execution_count": 8,
   "metadata": {},
   "outputs": [
    {
     "name": "stdout",
     "output_type": "stream",
     "text": [
      "Z-Score : 15.0\n",
      "Critical Z-score : 1.6448536269514722\n",
      "Reject Null Hypothesis\n"
     ]
    }
   ],
   "source": [
    "# Use the cell for calculating and using z-score as a measure of critical value\n",
    "z_score = (sample_mean-population_mean)/(population_std/np.sqrt(100))\n",
    "print(\"Z-Score :\", z_score)\n",
    "\n",
    "z_critical = stats.norm.ppf(1-alpha)\n",
    "print('Critical Z-score :', z_critical)\n",
    "\n",
    "if z_score > z_critical:\n",
    "    print(\"Reject Null Hypothesis\")\n",
    "else:\n",
    "    print(\"Fail to Reject Null Hypothesis\")"
   ]
  },
  {
   "cell_type": "code",
   "execution_count": 9,
   "metadata": {},
   "outputs": [
    {
     "name": "stdout",
     "output_type": "stream",
     "text": [
      "p-value: 0.0\n",
      "Reject Null Hypothesis\n"
     ]
    }
   ],
   "source": [
    "# Use this cell for calculating and using the z-score for calculating the appropriate p-value\n",
    "p_value = 1-stats.norm.cdf(z_score)\n",
    "print('p-value:', p_value)\n",
    "\n",
    "if p_value <  alpha:\n",
    "    print(\"Reject Null Hypothesis\")\n",
    "else:\n",
    "  print(\"Fail to Reject Null Hypothesis\")\n"
   ]
  },
  {
   "cell_type": "markdown",
   "metadata": {},
   "source": [
    "### Two-Sample Z-Test\n"
   ]
  },
  {
   "cell_type": "code",
   "execution_count": 12,
   "metadata": {},
   "outputs": [],
   "source": [
    "# Given that we have the following two groups, use a z-test to determine if they are significantly different.\n",
    "# Group A (Coffee Drinkers), group size of 100, mean of 90, and standard deviation of 12\n",
    "# Group B (Non-Coffe Drinkers), group size of 110, mean of 75, and standard deviation of 10\n",
    "\n",
    "#Group A\n",
    "n1 = 100\n",
    "x1 = 90\n",
    "s1 = 12\n",
    "\n",
    "#group B\n",
    "n2 = 110\n",
    "x2 = 75\n",
    "s2 = 10"
   ]
  },
  {
   "cell_type": "code",
   "execution_count": 16,
   "metadata": {},
   "outputs": [
    {
     "name": "stdout",
     "output_type": "stream",
     "text": [
      "Z-Score: 9.78681427974037\n",
      "Critical Z-Score: 1.959963984540054\n",
      "Reject the null hypothesis.\n",
      "There is a significant difference between the coffee drinkers and non coffee drinkers.\n"
     ]
    }
   ],
   "source": [
    "# Use this cell for calculating the z-score and comparing against the critical\n",
    "\n",
    "D = 0\n",
    "alpha = 0.05\n",
    "\n",
    "# Calculate the test statistic (z-score)\n",
    "z_score = ((x1 - x2) - D) / np.sqrt((s1**2 / n1) + (s2**2 / n2))\n",
    "print('Z-Score:', np.abs(z_score))\n",
    "\n",
    "# Calculate the critical value\n",
    "z_critical = stats.norm.ppf(1 - alpha/2)\n",
    "print('Critical Z-Score:',z_critical)\n",
    "\n",
    "if np.abs(z_score) > z_critical:\n",
    "    print(\"\"\"Reject the null hypothesis.\n",
    "There is a significant difference between the coffee drinkers and non coffee drinkers.\"\"\")\n",
    "else:\n",
    "    print(\"\"\"Fail to reject the null hypothesis.\n",
    "There is not enough evidence to suggest a significant difference between the coffee drinkers and non coffee drinkers.\"\"\")"
   ]
  },
  {
   "cell_type": "code",
   "execution_count": 15,
   "metadata": {},
   "outputs": [
    {
     "name": "stdout",
     "output_type": "stream",
     "text": [
      "P-Value : 0.0\n",
      "Reject the null hypothesis.\n",
      "There is a significant difference between the coffee drinkers and non coffee drinkers.\n"
     ]
    }
   ],
   "source": [
    "# Use this cell for calculating the p-value\n",
    "\n",
    "p_value = 2 * (1 - stats.norm.cdf(np.abs(z_score)))\n",
    "print('P-Value :',p_value)\n",
    "\n",
    "if p_value < alpha:\n",
    "    print(\"\"\"Reject the null hypothesis.\n",
    "There is a significant difference between the coffee drinkers and non coffee drinkers.\"\"\")\n",
    "else:\n",
    "    print(\"\"\"Fail to reject the null hypothesis.\n",
    "There is not enough evidence to suggest significant difference between the coffee drinkers and non coffee drinkers.\"\"\")"
   ]
  },
  {
   "cell_type": "markdown",
   "metadata": {},
   "source": [
    "### Debrief\n",
    "\n",
    "You might not know exactly what is going on in the code right now.\n",
    "\n",
    "In your groups, do some research on the individual functions and what they mean. Share your thoughts on what these functions are using and what concepts are new.\n",
    "\n",
    "How is the idea of what you did using the code related to what we discussed in class?\n",
    "\n",
    "To help with this idea, read: https://stackoverflow.com/questions/65468026/norm-ppf-vs-norm-cdf-in-pythons-scipy-stats "
   ]
  }
 ],
 "metadata": {
  "kernelspec": {
   "display_name": "base",
   "language": "python",
   "name": "python3"
  },
  "language_info": {
   "codemirror_mode": {
    "name": "ipython",
    "version": 3
   },
   "file_extension": ".py",
   "mimetype": "text/x-python",
   "name": "python",
   "nbconvert_exporter": "python",
   "pygments_lexer": "ipython3",
   "version": "3.9.18"
  },
  "orig_nbformat": 4
 },
 "nbformat": 4,
 "nbformat_minor": 2
}
